{
 "cells": [
  {
   "cell_type": "code",
   "execution_count": 4,
   "metadata": {},
   "outputs": [
    {
     "name": "stderr",
     "output_type": "stream",
     "text": [
      "t:   0%|▎                                                                    | 3/600 [00:00<00:22, 26.31it/s, now=None]"
     ]
    },
    {
     "name": "stdout",
     "output_type": "stream",
     "text": [
      "Moviepy - Building video fin1.mp4.\n",
      "Moviepy - Writing video fin1.mp4\n",
      "\n"
     ]
    },
    {
     "name": "stderr",
     "output_type": "stream",
     "text": [
      "                                                                                                                       \r"
     ]
    },
    {
     "name": "stdout",
     "output_type": "stream",
     "text": [
      "Moviepy - Done !\n",
      "Moviepy - video ready fin1.mp4\n"
     ]
    }
   ],
   "source": [
    "import numpy as np\n",
    "\n",
    "from moviepy.editor import *\n",
    "from moviepy.video.tools.segmenting import findObjects\n",
    "\n",
    "# WE CREATE THE TEXT THAT IS GOING TO MOVE, WE CENTER IT.\n",
    "\n",
    "screensize = (1920,1080)\n",
    "txtClip = TextClip('Barcelona',color='white', font=\"Amiri-Bold\",\n",
    "                   kerning = 5, fontsize=100)\n",
    "cvc = CompositeVideoClip( [txtClip.set_pos('center')],\n",
    "                        size=screensize)\n",
    "\n",
    "# THE NEXT FOUR FUNCTIONS DEFINE FOUR WAYS OF MOVING THE LETTERS\n",
    "\n",
    "\n",
    "# helper function\n",
    "rotMatrix = lambda a: np.array( [[np.cos(a),np.sin(a)], \n",
    "                                 [-np.sin(a),np.cos(a)]] )\n",
    "\n",
    "def vortex(screenpos,i,nletters):\n",
    "    d = lambda t : 1.0/(0.3+t**8) #damping\n",
    "    a = i*np.pi/ nletters # angle of the movement\n",
    "    v = rotMatrix(a).dot([-1,0])\n",
    "    if i%2 : v[1] = -v[1]\n",
    "    return lambda t: screenpos+400*d(t)*rotMatrix(0.5*d(t)*a).dot(v)\n",
    "    \n",
    "def cascade(screenpos,i,nletters):\n",
    "    v = np.array([0,-1])\n",
    "    d = lambda t : 1 if t<0 else abs(np.sinc(t)/(1+t**4))\n",
    "    return lambda t: screenpos+v*400*d(t-0.15*i)\n",
    "\n",
    "def arrive(screenpos,i,nletters):\n",
    "    v = np.array([-1,0])\n",
    "    d = lambda t : max(0, 3-3*t)\n",
    "    return lambda t: screenpos-400*v*d(t-0.2*i)\n",
    "    \n",
    "def vortexout(screenpos,i,nletters):\n",
    "    d = lambda t : max(0,t) #damping\n",
    "    a = i*np.pi/ nletters # angle of the movement\n",
    "    v = rotMatrix(a).dot([-1,0])\n",
    "    if i%2 : v[1] = -v[1]\n",
    "    return lambda t: screenpos+400*d(t-0.1*i)*rotMatrix(-0.2*d(t)*a).dot(v)\n",
    "\n",
    "\n",
    "\n",
    "# WE USE THE PLUGIN findObjects TO LOCATE AND SEPARATE EACH LETTER\n",
    "\n",
    "letters = findObjects(cvc) # a list of ImageClips\n",
    "\n",
    "\n",
    "# WE ANIMATE THE LETTERS\n",
    "\n",
    "def moveLetters(letters, funcpos):\n",
    "    return [ letter.set_pos(funcpos(letter.screenpos,i,len(letters)))\n",
    "              for i,letter in enumerate(letters)]\n",
    "\n",
    "clips = [ CompositeVideoClip( moveLetters(letters,funcpos),\n",
    "                              size = screensize).subclip(0,5)\n",
    "          for funcpos in [vortex, cascade, arrive, vortexout] ]\n",
    "\n",
    "# WE CONCATENATE EVERYTHING AND WRITE TO A FILE\n",
    "\n",
    "final_clip = concatenate_videoclips(clips)\n",
    "final_clip.write_videofile('fin1.mp4',fps=30,codec='mpeg4')"
   ]
  },
  {
   "cell_type": "code",
   "execution_count": 2,
   "metadata": {},
   "outputs": [],
   "source": []
  },
  {
   "cell_type": "code",
   "execution_count": 14,
   "metadata": {},
   "outputs": [
    {
     "name": "stderr",
     "output_type": "stream",
     "text": [
      "t:   0%|                                                                    | 2/1676 [00:00<02:03, 13.51it/s, now=None]"
     ]
    },
    {
     "name": "stdout",
     "output_type": "stream",
     "text": [
      "Moviepy - Building video fin.mp4.\n",
      "Moviepy - Writing video fin.mp4\n",
      "\n"
     ]
    },
    {
     "name": "stderr",
     "output_type": "stream",
     "text": [
      "                                                                                                                       "
     ]
    },
    {
     "name": "stdout",
     "output_type": "stream",
     "text": [
      "Moviepy - Done !\n",
      "Moviepy - video ready fin.mp4\n"
     ]
    },
    {
     "name": "stderr",
     "output_type": "stream",
     "text": [
      "\r"
     ]
    }
   ],
   "source": []
  },
  {
   "cell_type": "code",
   "execution_count": 2,
   "metadata": {},
   "outputs": [
    {
     "name": "stderr",
     "output_type": "stream",
     "text": [
      "\r",
      "t:   0%|                                                                               | 0/2 [00:00<?, ?it/s, now=None]"
     ]
    },
    {
     "name": "stdout",
     "output_type": "stream",
     "text": [
      "Moviepy - Building video fin1.mp4.\n",
      "Moviepy - Writing video fin1.mp4\n",
      "\n"
     ]
    },
    {
     "name": "stderr",
     "output_type": "stream",
     "text": [
      "\r",
      "                                                                                                                       "
     ]
    },
    {
     "name": "stdout",
     "output_type": "stream",
     "text": [
      "Moviepy - Done !\n",
      "Moviepy - video ready fin1.mp4\n"
     ]
    },
    {
     "name": "stderr",
     "output_type": "stream",
     "text": [
      "\r"
     ]
    }
   ],
   "source": [
    "import numpy as np\n",
    "\n",
    "from moviepy.editor import *\n",
    "from moviepy.video.tools.segmenting import findObjects\n",
    "\n",
    "# WE CREATE THE TEXT THAT IS GOING TO MOVE, WE CENTER IT.\n",
    "\n",
    "f=clip.fps\n",
    "screensize = (1920,1080)\n",
    "spain=['Barcelona','Madrid','Granada','Spanish Islands','Seville','Valencia','San Sebastian','Cordoba','Toledo',\n",
    "       'Santiago de Compostela']\n",
    "\n",
    "txtClip = TextClip('Barcelona' ,color='white', font=\"Amiri-Bold\",\n",
    "                    fontsize=50)\n",
    "cvc = CompositeVideoClip( [txtClip.set_position(('center'))],\n",
    "                        size=screensize).set_fps(fps=f)\n",
    "\n",
    "# THE NEXT FOUR FUNCTIONS DEFINE FOUR WAYS OF MOVING THE LETTERS\n",
    "def cascade(screenpos,i,nletters):\n",
    "    v = np.array([0,-1])\n",
    "    d = lambda t : 1 if t<0 else abs(np.sinc(t)/(1+t**4))\n",
    "    return lambda t: screenpos+v*400*d(t-0.15*i)\n",
    "\n",
    "def arrive(screenpos,i,nletters):\n",
    "    v = np.array([-1,0])\n",
    "    d = lambda t : max(0, 3-3*t)\n",
    "    return lambda t: screenpos-400*v*d(t-0.2*i)\n",
    "\n",
    "# helper function\n",
    "rotMatrix = lambda a: np.array( [[np.cos(a),np.sin(a)], \n",
    "                                 [-np.sin(a),np.cos(a)]] )\n",
    "\n",
    "\n",
    "\n",
    "# WE USE THE PLUGIN findObjects TO LOCATE AND SEPARATE EACH LETTER\n",
    "\n",
    "letters = findObjects(cvc) # a list of ImageClips\n",
    "\n",
    "\n",
    "# WE ANIMATE THE LETTERS\n",
    "\n",
    "def moveLetters(letters, funcpos):\n",
    "    return [ letter.set_pos(funcpos(letter.screenpos,i,len(letters)))\n",
    "              for i,letter in enumerate(letters)]\n",
    "\n",
    "clips = [ (CompositeVideoClip( moveLetters(letters,cascade),\n",
    "                              size = screensize).subclip(0,5)).set_fps(fps=f)]\n",
    "\n",
    "# WE CONCATENATE EVERYTHING AND WRITE TO A FILE\n",
    "\n",
    "#clip = VideoFileClip(r'C:\\Users\\tapan\\JUpyter\\Spain\\Barcelona\\shorts\\1.mp4')\n",
    "#final_clip = CompositeVideoClip(moveLetters(letters,arrive))\n",
    "#final_clip.duration= clip.duration\n",
    "#final_clip.write_videofile('t.mp4',fps=25,codec='mpeg4')\n",
    "final_clip = (CompositeVideoClip(moveLetters(letters,cascade),size = screensize).subclip(0,clip.duration)).set_fps(fps=f)\n",
    "f_clip=CompositeVideoClip([clip,final_clip.set_start(4).crossfadein(1)], size=screensize, use_bgclip=True).set_fps(fps=f)\n",
    "f_clip.write_videofile('fin1.mp4', fps=f, codec='mpeg4', bitrate='6479k')"
   ]
  },
  {
   "cell_type": "code",
   "execution_count": 3,
   "metadata": {
    "scrolled": true
   },
   "outputs": [
    {
     "name": "stderr",
     "output_type": "stream",
     "text": [
      "\r",
      "chunk:   0%|                                                                       | 0/15877 [00:00<?, ?it/s, now=None]"
     ]
    },
    {
     "name": "stdout",
     "output_type": "stream",
     "text": [
      "Moviepy - Building video fin.mp4.\n",
      "MoviePy - Writing audio in finTEMP_MPY_wvf_snd.mp3\n"
     ]
    },
    {
     "name": "stderr",
     "output_type": "stream",
     "text": [
      "t:   0%|                                                                   | 3/21602 [00:00<12:07, 29.70it/s, now=None]"
     ]
    },
    {
     "name": "stdout",
     "output_type": "stream",
     "text": [
      "MoviePy - Done.\n",
      "Moviepy - Writing video fin.mp4\n",
      "\n"
     ]
    },
    {
     "name": "stderr",
     "output_type": "stream",
     "text": [
      "                                                                                                                       \r"
     ]
    },
    {
     "name": "stdout",
     "output_type": "stream",
     "text": [
      "Moviepy - Done !\n",
      "Moviepy - video ready fin.mp4\n"
     ]
    }
   ],
   "source": [
    "clip = VideoFileClip(r'C:/Users/tapan/JUpyter/fin - Copy.mp4')\n",
    "\n",
    "clip.write_videofile('fin.mp4', fps=clip.fps, codec='hevc')\n"
   ]
  },
  {
   "cell_type": "code",
   "execution_count": null,
   "metadata": {},
   "outputs": [],
   "source": []
  }
 ],
 "metadata": {
  "kernelspec": {
   "display_name": "Python 3",
   "language": "python",
   "name": "python3"
  },
  "language_info": {
   "codemirror_mode": {
    "name": "ipython",
    "version": 3
   },
   "file_extension": ".py",
   "mimetype": "text/x-python",
   "name": "python",
   "nbconvert_exporter": "python",
   "pygments_lexer": "ipython3",
   "version": "3.7.5"
  }
 },
 "nbformat": 4,
 "nbformat_minor": 4
}
